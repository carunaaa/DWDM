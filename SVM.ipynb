{
 "cells": [
  {
   "cell_type": "code",
   "execution_count": null,
   "id": "c9ccc375-9be5-4191-941f-2f8a4d4fa71e",
   "metadata": {
    "tags": []
   },
   "outputs": [],
   "source": [
    "import pandas as pd\n",
    "from IPython.display import display_html\n",
    "from sklearn.svm import LinearSVC\n",
    "from sklearn.model_selection import train_test_split\n",
    "from sklearn.metrics import accuracy_score, classification_report, confusion_matrix\n",
    "from sklearn.preprocessing import LabelEncoder\n",
    "\n",
    "def build_model(X_train, Y_train):\n",
    "    clf = LinearSVC(dual=False, max_iter=1000)\n",
    "    clf.fit(X_train, Y_train)\n",
    "    return clf\n",
    "\n",
    "def prediction_using_model(clf, X_test, Y_test):\n",
    "    X_test = pd.DataFrame(X_test).reset_index(drop=True) \n",
    "    Y_test = pd.Series(Y_test).reset_index(drop=True) \n",
    "    Y_pred = clf.predict(X_test)\n",
    "    predictions = pd.concat([X_test, pd.Series(Y_pred, name='Predicted Class')], axis=1)\n",
    "    \n",
    "    print(\"Do you want to view the class label prediction for the top five tuples of test data?\")\n",
    "    choice = input()\n",
    "    if choice == 'yes':\n",
    "        display_html(predictions.head())\n",
    "    \n",
    "    print(\"Do you want to view the Evaluation of the model?\")\n",
    "    choice = input()\n",
    "    if choice == 'yes':\n",
    "        model_evaluation(Y_pred, Y_test)\n",
    "    else:\n",
    "        quit()\n",
    "\n",
    "\n",
    "def model_evaluation(y_pred, y_test):\n",
    "    print(\"Confusion Matrix:\")\n",
    "    report = confusion_matrix(y_test, y_pred)\n",
    "    cf = pd.DataFrame(report).transpose()\n",
    "    display_html(cf)\n",
    "    score = accuracy_score(y_test, y_pred)\n",
    "    print('SVM Accuracy:', score)\n",
    "    print(\"Classification report:\")\n",
    "    report = classification_report(y_test, y_pred, zero_division=1, output_dict=True)\n",
    "    df = pd.DataFrame(report).transpose()\n",
    "    display_html(df[['precision', 'recall', 'f1-score']].head(3))\n",
    "\n",
    "\n",
    "def main():\n",
    "    data = pd.read_excel('Dry_Bean_Dataset.xlsx')\n",
    "    \n",
    "    print(\"Do you want to view the top five data tuples of the Dry Bean Dataset?\")\n",
    "    choice = input()\n",
    "    if choice == 'yes':\n",
    "        display_html(data.head())\n",
    "\n",
    "    label_encoder = LabelEncoder()\n",
    "    Y = label_encoder.fit_transform(data['Class'])\n",
    "\n",
    "    X = data.drop(['Perimeter', 'Area', 'Class'], axis=1)\n",
    "    X_train, X_test, Y_train, Y_test = train_test_split(X, Y, test_size=0.25, random_state=1)\n",
    "    clf = build_model(X_train, Y_train)\n",
    "    prediction_using_model(clf, X_test, Y_test)\n",
    "\n",
    "main()"
   ]
  }
 ],
 "metadata": {
  "kernelspec": {
   "display_name": "Python 3 (ipykernel)",
   "language": "python",
   "name": "python3"
  },
  "language_info": {
   "codemirror_mode": {
    "name": "ipython",
    "version": 3
   },
   "file_extension": ".py",
   "mimetype": "text/x-python",
   "name": "python",
   "nbconvert_exporter": "python",
   "pygments_lexer": "ipython3",
   "version": "3.11.5"
  }
 },
 "nbformat": 4,
 "nbformat_minor": 5
}
